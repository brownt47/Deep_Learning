{
  "nbformat": 4,
  "nbformat_minor": 0,
  "metadata": {
    "colab": {
      "name": "artificial_neural_network.ipynb",
      "provenance": [],
      "collapsed_sections": [],
      "include_colab_link": true
    },
    "kernelspec": {
      "name": "python3",
      "display_name": "Python 3"
    }
  },
  "cells": [
    {
      "cell_type": "markdown",
      "metadata": {
        "id": "view-in-github",
        "colab_type": "text"
      },
      "source": [
        "<a href=\"https://colab.research.google.com/github/brownt47/Deep_Learning/blob/main/artificial_neural_network.ipynb\" target=\"_parent\"><img src=\"https://colab.research.google.com/assets/colab-badge.svg\" alt=\"Open In Colab\"/></a>"
      ]
    },
    {
      "cell_type": "markdown",
      "metadata": {
        "id": "lP6JLo1tGNBg"
      },
      "source": [
        "# Artificial Neural Network"
      ]
    },
    {
      "cell_type": "markdown",
      "metadata": {
        "id": "gWZyYmS_UE_L"
      },
      "source": [
        "### Importing the libraries"
      ]
    },
    {
      "cell_type": "code",
      "metadata": {
        "id": "DqNaI0as_YLX"
      },
      "source": [
        "import pandas as pd\n",
        "import numpy as np\n",
        "#import matplotlib.plot as plt\n",
        "import tensorflow as tf"
      ],
      "execution_count": 186,
      "outputs": []
    },
    {
      "cell_type": "code",
      "metadata": {
        "colab": {
          "base_uri": "https://localhost:8080/",
          "height": 34
        },
        "id": "j8edwrf1_gge",
        "outputId": "772b0c21-5cbd-46f6-f2ea-e2f01e6d095e"
      },
      "source": [
        "tf.__version__"
      ],
      "execution_count": 187,
      "outputs": [
        {
          "output_type": "execute_result",
          "data": {
            "application/vnd.google.colaboratory.intrinsic+json": {
              "type": "string"
            },
            "text/plain": [
              "'2.6.0'"
            ]
          },
          "metadata": {},
          "execution_count": 187
        }
      ]
    },
    {
      "cell_type": "markdown",
      "metadata": {
        "id": "1E0Q3aoKUCRX"
      },
      "source": [
        "## Part 1 - Data Preprocessing"
      ]
    },
    {
      "cell_type": "markdown",
      "metadata": {
        "id": "cKWAkFVGUU0Z"
      },
      "source": [
        "### Importing the dataset"
      ]
    },
    {
      "cell_type": "code",
      "metadata": {
        "id": "up_xHFymARBh"
      },
      "source": [
        "data = pd.read_csv(\"Churn_Modelling.csv\")"
      ],
      "execution_count": 188,
      "outputs": []
    },
    {
      "cell_type": "code",
      "metadata": {
        "colab": {
          "base_uri": "https://localhost:8080/"
        },
        "id": "l_xQ0GKFAf2-",
        "outputId": "118988a5-8099-4131-f50b-e366f125e25e"
      },
      "source": [
        "len(data)"
      ],
      "execution_count": 189,
      "outputs": [
        {
          "output_type": "execute_result",
          "data": {
            "text/plain": [
              "10000"
            ]
          },
          "metadata": {},
          "execution_count": 189
        }
      ]
    },
    {
      "cell_type": "code",
      "metadata": {
        "colab": {
          "base_uri": "https://localhost:8080/"
        },
        "id": "Cc7p1QfxAbLd",
        "outputId": "4b9cbbeb-6390-47c9-b769-d9d224ce06d2"
      },
      "source": [
        "print(data.Geography)"
      ],
      "execution_count": 190,
      "outputs": [
        {
          "output_type": "stream",
          "name": "stdout",
          "text": [
            "0        France\n",
            "1         Spain\n",
            "2        France\n",
            "3        France\n",
            "4         Spain\n",
            "         ...   \n",
            "9995     France\n",
            "9996     France\n",
            "9997     France\n",
            "9998    Germany\n",
            "9999     France\n",
            "Name: Geography, Length: 10000, dtype: object\n"
          ]
        }
      ]
    },
    {
      "cell_type": "code",
      "metadata": {
        "id": "aa3OeOq1AyEv"
      },
      "source": [
        "X = data.iloc[:,3:-1].values\n",
        "y = data.iloc[:,-1].values"
      ],
      "execution_count": 191,
      "outputs": []
    },
    {
      "cell_type": "code",
      "metadata": {
        "colab": {
          "base_uri": "https://localhost:8080/"
        },
        "id": "21n-uAWUBV6m",
        "outputId": "a6d21282-1122-4631-b37e-a00cf213644d"
      },
      "source": [
        "print(X)"
      ],
      "execution_count": 192,
      "outputs": [
        {
          "output_type": "stream",
          "name": "stdout",
          "text": [
            "[[619 'France' 'Female' ... 1 1 101348.88]\n",
            " [608 'Spain' 'Female' ... 0 1 112542.58]\n",
            " [502 'France' 'Female' ... 1 0 113931.57]\n",
            " ...\n",
            " [709 'France' 'Female' ... 0 1 42085.58]\n",
            " [772 'Germany' 'Male' ... 1 0 92888.52]\n",
            " [792 'France' 'Female' ... 1 0 38190.78]]\n"
          ]
        }
      ]
    },
    {
      "cell_type": "code",
      "metadata": {
        "colab": {
          "base_uri": "https://localhost:8080/"
        },
        "id": "IQ4Up-pQBXm1",
        "outputId": "f7f2258c-617a-4fff-a2e9-79f1a3b832b9"
      },
      "source": [
        "print(y)"
      ],
      "execution_count": 193,
      "outputs": [
        {
          "output_type": "stream",
          "name": "stdout",
          "text": [
            "[1 0 1 ... 1 1 0]\n"
          ]
        }
      ]
    },
    {
      "cell_type": "markdown",
      "metadata": {
        "id": "N6bQ0UgSU-NJ"
      },
      "source": [
        "### Encoding categorical data"
      ]
    },
    {
      "cell_type": "markdown",
      "metadata": {
        "id": "le5MJreAbW52"
      },
      "source": [
        "Label Encoding the \"Gender\" column"
      ]
    },
    {
      "cell_type": "code",
      "metadata": {
        "id": "dyXBchV1BjpA"
      },
      "source": [
        "from sklearn.preprocessing import LabelEncoder\n",
        "le = LabelEncoder()\n",
        "X[:, 2] = le.fit_transform(X[:, 2])"
      ],
      "execution_count": 194,
      "outputs": []
    },
    {
      "cell_type": "code",
      "metadata": {
        "colab": {
          "base_uri": "https://localhost:8080/"
        },
        "id": "p8hkkYlaDT72",
        "outputId": "2747106e-6974-4c48-f94d-a24103c96369"
      },
      "source": [
        "print(X)"
      ],
      "execution_count": 195,
      "outputs": [
        {
          "output_type": "stream",
          "name": "stdout",
          "text": [
            "[[619 'France' 0 ... 1 1 101348.88]\n",
            " [608 'Spain' 0 ... 0 1 112542.58]\n",
            " [502 'France' 0 ... 1 0 113931.57]\n",
            " ...\n",
            " [709 'France' 0 ... 0 1 42085.58]\n",
            " [772 'Germany' 1 ... 1 0 92888.52]\n",
            " [792 'France' 0 ... 1 0 38190.78]]\n"
          ]
        }
      ]
    },
    {
      "cell_type": "markdown",
      "metadata": {
        "id": "CUxGZezpbMcb"
      },
      "source": [
        "One Hot Encoding the \"Geography\" column"
      ]
    },
    {
      "cell_type": "code",
      "metadata": {
        "id": "wNar_l2WCs_W"
      },
      "source": [
        "from sklearn.compose import ColumnTransformer\n",
        "from sklearn.preprocessing import OneHotEncoder\n",
        "ct = ColumnTransformer(transformers = [('encoder', OneHotEncoder(), [1])], remainder = 'passthrough')\n",
        "X = np.array(ct.fit_transform(X))"
      ],
      "execution_count": 196,
      "outputs": []
    },
    {
      "cell_type": "code",
      "metadata": {
        "colab": {
          "base_uri": "https://localhost:8080/"
        },
        "id": "qPUUF1gEDc9D",
        "outputId": "24fc9575-cdbc-44b6-ad3f-837a655c6a1a"
      },
      "source": [
        "print(X)"
      ],
      "execution_count": 197,
      "outputs": [
        {
          "output_type": "stream",
          "name": "stdout",
          "text": [
            "[[1.0 0.0 0.0 ... 1 1 101348.88]\n",
            " [0.0 0.0 1.0 ... 0 1 112542.58]\n",
            " [1.0 0.0 0.0 ... 1 0 113931.57]\n",
            " ...\n",
            " [1.0 0.0 0.0 ... 0 1 42085.58]\n",
            " [0.0 1.0 0.0 ... 1 0 92888.52]\n",
            " [1.0 0.0 0.0 ... 1 0 38190.78]]\n"
          ]
        }
      ]
    },
    {
      "cell_type": "markdown",
      "metadata": {
        "id": "vHol938cW8zd"
      },
      "source": [
        "### Splitting the dataset into the Training set and Test set"
      ]
    },
    {
      "cell_type": "code",
      "metadata": {
        "id": "OeKc_oZhDoZb"
      },
      "source": [
        "from sklearn.model_selection import train_test_split\n",
        "X_train, X_test, y_train, y_test = train_test_split(X, y, test_size = 0.2, random_state = 0)"
      ],
      "execution_count": 198,
      "outputs": []
    },
    {
      "cell_type": "markdown",
      "metadata": {
        "id": "RE_FcHyfV3TQ"
      },
      "source": [
        "### Feature Scaling"
      ]
    },
    {
      "cell_type": "code",
      "metadata": {
        "id": "lKPeQGMWD-1Q"
      },
      "source": [
        "from sklearn.preprocessing import StandardScaler\n",
        "sc = StandardScaler()\n",
        "X_train = sc.fit_transform(X_train)\n",
        "X_test = sc.fit_transform(X_test)"
      ],
      "execution_count": 199,
      "outputs": []
    },
    {
      "cell_type": "markdown",
      "metadata": {
        "id": "-zfEzkRVXIwF"
      },
      "source": [
        "## Part 2 - Building the ANN"
      ]
    },
    {
      "cell_type": "markdown",
      "metadata": {
        "id": "KvdeScabXtlB"
      },
      "source": [
        "### Initializing the ANN"
      ]
    },
    {
      "cell_type": "code",
      "metadata": {
        "id": "5LV6AB6GEoqR"
      },
      "source": [
        "ann = tf.keras.Sequential()"
      ],
      "execution_count": 200,
      "outputs": []
    },
    {
      "cell_type": "markdown",
      "metadata": {
        "id": "rP6urV6SX7kS"
      },
      "source": [
        "### Adding the input layer and the first hidden layer"
      ]
    },
    {
      "cell_type": "code",
      "metadata": {
        "id": "tv-lPGkmEwui"
      },
      "source": [
        "ann.add(tf.keras.layers.Dense(units = 8, activation = 'relu'))"
      ],
      "execution_count": 201,
      "outputs": []
    },
    {
      "cell_type": "markdown",
      "metadata": {
        "id": "BELWAc_8YJze"
      },
      "source": [
        "### Adding the second hidden layer"
      ]
    },
    {
      "cell_type": "code",
      "metadata": {
        "id": "mIRn8v-CGaLU"
      },
      "source": [
        "ann.add(tf.keras.layers.Dense(units = 8, activation = 'relu'))"
      ],
      "execution_count": 202,
      "outputs": []
    },
    {
      "cell_type": "markdown",
      "metadata": {
        "id": "AOsdVG36GvJA"
      },
      "source": [
        "### Adding the third hidden layer"
      ]
    },
    {
      "cell_type": "code",
      "metadata": {
        "id": "riez41psGx12"
      },
      "source": [
        "ann.add(tf.keras.layers.Dense(units = 8, activation = 'relu'))"
      ],
      "execution_count": 203,
      "outputs": []
    },
    {
      "cell_type": "markdown",
      "metadata": {
        "id": "OyNEe6RXYcU4"
      },
      "source": [
        "### Adding the output layer"
      ]
    },
    {
      "cell_type": "code",
      "metadata": {
        "id": "zbiqulVVGdfj"
      },
      "source": [
        "ann.add(tf.keras.layers.Dense(units = 1, activation = 'sigmoid'))"
      ],
      "execution_count": 204,
      "outputs": []
    },
    {
      "cell_type": "markdown",
      "metadata": {
        "id": "JT4u2S1_Y4WG"
      },
      "source": [
        "## Part 3 - Training the ANN"
      ]
    },
    {
      "cell_type": "markdown",
      "metadata": {
        "id": "8GWlJChhY_ZI"
      },
      "source": [
        "### Compiling the ANN"
      ]
    },
    {
      "cell_type": "code",
      "metadata": {
        "id": "TLqM5_qTHpUI"
      },
      "source": [
        "ann.compile(optimizer= 'adam', loss= 'binary_crossentropy', metrics= ['accuracy'])"
      ],
      "execution_count": 205,
      "outputs": []
    },
    {
      "cell_type": "markdown",
      "metadata": {
        "id": "0QR_G5u7ZLSM"
      },
      "source": [
        "### Training the ANN on the Training set"
      ]
    },
    {
      "cell_type": "code",
      "metadata": {
        "colab": {
          "base_uri": "https://localhost:8080/"
        },
        "id": "fIy7NGGMHqXn",
        "outputId": "ce25a39c-57b9-4346-8aa7-b405dd0a7d10"
      },
      "source": [
        "ann.fit(X_train, y_train, batch_size= 64, epochs= 100)"
      ],
      "execution_count": 242,
      "outputs": [
        {
          "output_type": "stream",
          "name": "stdout",
          "text": [
            "Epoch 1/100\n",
            "WARNING:tensorflow:Model was constructed with shape (10, 12) for input KerasTensor(type_spec=TensorSpec(shape=(10, 12), dtype=tf.float32, name='dense_32_input'), name='dense_32_input', description=\"created by layer 'dense_32_input'\"), but it was called on an input with incompatible shape (64, 12).\n",
            "125/125 [==============================] - 0s 2ms/step - loss: 0.3393 - accuracy: 0.8590\n",
            "Epoch 2/100\n",
            "125/125 [==============================] - 0s 2ms/step - loss: 0.3383 - accuracy: 0.8614\n",
            "Epoch 3/100\n",
            "125/125 [==============================] - 0s 2ms/step - loss: 0.3377 - accuracy: 0.8600\n",
            "Epoch 4/100\n",
            "125/125 [==============================] - 0s 2ms/step - loss: 0.3375 - accuracy: 0.8599\n",
            "Epoch 5/100\n",
            "125/125 [==============================] - 0s 1ms/step - loss: 0.3371 - accuracy: 0.8615\n",
            "Epoch 6/100\n",
            "125/125 [==============================] - 0s 2ms/step - loss: 0.3363 - accuracy: 0.8621\n",
            "Epoch 7/100\n",
            "125/125 [==============================] - 0s 2ms/step - loss: 0.3361 - accuracy: 0.8600\n",
            "Epoch 8/100\n",
            "125/125 [==============================] - 0s 1ms/step - loss: 0.3361 - accuracy: 0.8610\n",
            "Epoch 9/100\n",
            "125/125 [==============================] - 0s 2ms/step - loss: 0.3355 - accuracy: 0.8612\n",
            "Epoch 10/100\n",
            "125/125 [==============================] - 0s 1ms/step - loss: 0.3354 - accuracy: 0.8611\n",
            "Epoch 11/100\n",
            "125/125 [==============================] - 0s 1ms/step - loss: 0.3350 - accuracy: 0.8619\n",
            "Epoch 12/100\n",
            "125/125 [==============================] - 0s 2ms/step - loss: 0.3344 - accuracy: 0.8602\n",
            "Epoch 13/100\n",
            "125/125 [==============================] - 0s 1ms/step - loss: 0.3344 - accuracy: 0.8615\n",
            "Epoch 14/100\n",
            "125/125 [==============================] - 0s 1ms/step - loss: 0.3345 - accuracy: 0.8621\n",
            "Epoch 15/100\n",
            "125/125 [==============================] - 0s 1ms/step - loss: 0.3342 - accuracy: 0.8612\n",
            "Epoch 16/100\n",
            "125/125 [==============================] - 0s 1ms/step - loss: 0.3334 - accuracy: 0.8614\n",
            "Epoch 17/100\n",
            "125/125 [==============================] - 0s 1ms/step - loss: 0.3336 - accuracy: 0.8624\n",
            "Epoch 18/100\n",
            "125/125 [==============================] - 0s 1ms/step - loss: 0.3333 - accuracy: 0.8615\n",
            "Epoch 19/100\n",
            "125/125 [==============================] - 0s 1ms/step - loss: 0.3329 - accuracy: 0.8616\n",
            "Epoch 20/100\n",
            "125/125 [==============================] - 0s 1ms/step - loss: 0.3323 - accuracy: 0.8615\n",
            "Epoch 21/100\n",
            "125/125 [==============================] - 0s 1ms/step - loss: 0.3325 - accuracy: 0.8639\n",
            "Epoch 22/100\n",
            "125/125 [==============================] - 0s 1ms/step - loss: 0.3319 - accuracy: 0.8630\n",
            "Epoch 23/100\n",
            "125/125 [==============================] - 0s 1ms/step - loss: 0.3316 - accuracy: 0.8645\n",
            "Epoch 24/100\n",
            "125/125 [==============================] - 0s 2ms/step - loss: 0.3317 - accuracy: 0.8639\n",
            "Epoch 25/100\n",
            "125/125 [==============================] - 0s 1ms/step - loss: 0.3313 - accuracy: 0.8612\n",
            "Epoch 26/100\n",
            "125/125 [==============================] - 0s 1ms/step - loss: 0.3311 - accuracy: 0.8630\n",
            "Epoch 27/100\n",
            "125/125 [==============================] - 0s 2ms/step - loss: 0.3309 - accuracy: 0.8629\n",
            "Epoch 28/100\n",
            "125/125 [==============================] - 0s 1ms/step - loss: 0.3305 - accuracy: 0.8637\n",
            "Epoch 29/100\n",
            "125/125 [==============================] - 0s 1ms/step - loss: 0.3304 - accuracy: 0.8641\n",
            "Epoch 30/100\n",
            "125/125 [==============================] - 0s 2ms/step - loss: 0.3298 - accuracy: 0.8633\n",
            "Epoch 31/100\n",
            "125/125 [==============================] - 0s 1ms/step - loss: 0.3299 - accuracy: 0.8639\n",
            "Epoch 32/100\n",
            "125/125 [==============================] - 0s 1ms/step - loss: 0.3298 - accuracy: 0.8639\n",
            "Epoch 33/100\n",
            "125/125 [==============================] - 0s 1ms/step - loss: 0.3291 - accuracy: 0.8630\n",
            "Epoch 34/100\n",
            "125/125 [==============================] - 0s 1ms/step - loss: 0.3292 - accuracy: 0.8615\n",
            "Epoch 35/100\n",
            "125/125 [==============================] - 0s 1ms/step - loss: 0.3287 - accuracy: 0.8637\n",
            "Epoch 36/100\n",
            "125/125 [==============================] - 0s 1ms/step - loss: 0.3287 - accuracy: 0.8636\n",
            "Epoch 37/100\n",
            "125/125 [==============================] - 0s 1ms/step - loss: 0.3292 - accuracy: 0.8635\n",
            "Epoch 38/100\n",
            "125/125 [==============================] - 0s 1ms/step - loss: 0.3281 - accuracy: 0.8646\n",
            "Epoch 39/100\n",
            "125/125 [==============================] - 0s 1ms/step - loss: 0.3289 - accuracy: 0.8634\n",
            "Epoch 40/100\n",
            "125/125 [==============================] - 0s 1ms/step - loss: 0.3288 - accuracy: 0.8635\n",
            "Epoch 41/100\n",
            "125/125 [==============================] - 0s 1ms/step - loss: 0.3280 - accuracy: 0.8646\n",
            "Epoch 42/100\n",
            "125/125 [==============================] - 0s 1ms/step - loss: 0.3275 - accuracy: 0.8646\n",
            "Epoch 43/100\n",
            "125/125 [==============================] - 0s 1ms/step - loss: 0.3275 - accuracy: 0.8641\n",
            "Epoch 44/100\n",
            "125/125 [==============================] - 0s 1ms/step - loss: 0.3284 - accuracy: 0.8639\n",
            "Epoch 45/100\n",
            "125/125 [==============================] - 0s 1ms/step - loss: 0.3273 - accuracy: 0.8656\n",
            "Epoch 46/100\n",
            "125/125 [==============================] - 0s 1ms/step - loss: 0.3272 - accuracy: 0.8643\n",
            "Epoch 47/100\n",
            "125/125 [==============================] - 0s 1ms/step - loss: 0.3284 - accuracy: 0.8644\n",
            "Epoch 48/100\n",
            "125/125 [==============================] - 0s 1ms/step - loss: 0.3274 - accuracy: 0.8645\n",
            "Epoch 49/100\n",
            "125/125 [==============================] - 0s 1ms/step - loss: 0.3271 - accuracy: 0.8648\n",
            "Epoch 50/100\n",
            "125/125 [==============================] - 0s 1ms/step - loss: 0.3269 - accuracy: 0.8634\n",
            "Epoch 51/100\n",
            "125/125 [==============================] - 0s 2ms/step - loss: 0.3270 - accuracy: 0.8646\n",
            "Epoch 52/100\n",
            "125/125 [==============================] - 0s 1ms/step - loss: 0.3261 - accuracy: 0.8671\n",
            "Epoch 53/100\n",
            "125/125 [==============================] - 0s 2ms/step - loss: 0.3267 - accuracy: 0.8654\n",
            "Epoch 54/100\n",
            "125/125 [==============================] - 0s 1ms/step - loss: 0.3260 - accuracy: 0.8651\n",
            "Epoch 55/100\n",
            "125/125 [==============================] - 0s 1ms/step - loss: 0.3259 - accuracy: 0.8654\n",
            "Epoch 56/100\n",
            "125/125 [==============================] - 0s 2ms/step - loss: 0.3258 - accuracy: 0.8660\n",
            "Epoch 57/100\n",
            "125/125 [==============================] - 0s 1ms/step - loss: 0.3257 - accuracy: 0.8654\n",
            "Epoch 58/100\n",
            "125/125 [==============================] - 0s 2ms/step - loss: 0.3255 - accuracy: 0.8652\n",
            "Epoch 59/100\n",
            "125/125 [==============================] - 0s 1ms/step - loss: 0.3253 - accuracy: 0.8649\n",
            "Epoch 60/100\n",
            "125/125 [==============================] - 0s 1ms/step - loss: 0.3259 - accuracy: 0.8652\n",
            "Epoch 61/100\n",
            "125/125 [==============================] - 0s 1ms/step - loss: 0.3261 - accuracy: 0.8659\n",
            "Epoch 62/100\n",
            "125/125 [==============================] - 0s 1ms/step - loss: 0.3245 - accuracy: 0.8669\n",
            "Epoch 63/100\n",
            "125/125 [==============================] - 0s 1ms/step - loss: 0.3252 - accuracy: 0.8658\n",
            "Epoch 64/100\n",
            "125/125 [==============================] - 0s 1ms/step - loss: 0.3241 - accuracy: 0.8654\n",
            "Epoch 65/100\n",
            "125/125 [==============================] - 0s 1ms/step - loss: 0.3249 - accuracy: 0.8671\n",
            "Epoch 66/100\n",
            "125/125 [==============================] - 0s 1ms/step - loss: 0.3250 - accuracy: 0.8648\n",
            "Epoch 67/100\n",
            "125/125 [==============================] - 0s 2ms/step - loss: 0.3242 - accuracy: 0.8666\n",
            "Epoch 68/100\n",
            "125/125 [==============================] - 0s 1ms/step - loss: 0.3248 - accuracy: 0.8666\n",
            "Epoch 69/100\n",
            "125/125 [==============================] - 0s 1ms/step - loss: 0.3246 - accuracy: 0.8660\n",
            "Epoch 70/100\n",
            "125/125 [==============================] - 0s 1ms/step - loss: 0.3241 - accuracy: 0.8661\n",
            "Epoch 71/100\n",
            "125/125 [==============================] - 0s 1ms/step - loss: 0.3242 - accuracy: 0.8659\n",
            "Epoch 72/100\n",
            "125/125 [==============================] - 0s 1ms/step - loss: 0.3241 - accuracy: 0.8665\n",
            "Epoch 73/100\n",
            "125/125 [==============================] - 0s 1ms/step - loss: 0.3242 - accuracy: 0.8668\n",
            "Epoch 74/100\n",
            "125/125 [==============================] - 0s 1ms/step - loss: 0.3243 - accuracy: 0.8662\n",
            "Epoch 75/100\n",
            "125/125 [==============================] - 0s 2ms/step - loss: 0.3232 - accuracy: 0.8662\n",
            "Epoch 76/100\n",
            "125/125 [==============================] - 0s 1ms/step - loss: 0.3234 - accuracy: 0.8655\n",
            "Epoch 77/100\n",
            "125/125 [==============================] - 0s 2ms/step - loss: 0.3245 - accuracy: 0.8670\n",
            "Epoch 78/100\n",
            "125/125 [==============================] - 0s 1ms/step - loss: 0.3232 - accuracy: 0.8671\n",
            "Epoch 79/100\n",
            "125/125 [==============================] - 0s 1ms/step - loss: 0.3233 - accuracy: 0.8670\n",
            "Epoch 80/100\n",
            "125/125 [==============================] - 0s 1ms/step - loss: 0.3243 - accuracy: 0.8665\n",
            "Epoch 81/100\n",
            "125/125 [==============================] - 0s 2ms/step - loss: 0.3231 - accuracy: 0.8664\n",
            "Epoch 82/100\n",
            "125/125 [==============================] - 0s 1ms/step - loss: 0.3233 - accuracy: 0.8675\n",
            "Epoch 83/100\n",
            "125/125 [==============================] - 0s 1ms/step - loss: 0.3233 - accuracy: 0.8668\n",
            "Epoch 84/100\n",
            "125/125 [==============================] - 0s 1ms/step - loss: 0.3226 - accuracy: 0.8674\n",
            "Epoch 85/100\n",
            "125/125 [==============================] - 0s 2ms/step - loss: 0.3233 - accuracy: 0.8666\n",
            "Epoch 86/100\n",
            "125/125 [==============================] - 0s 1ms/step - loss: 0.3228 - accuracy: 0.8661\n",
            "Epoch 87/100\n",
            "125/125 [==============================] - 0s 2ms/step - loss: 0.3225 - accuracy: 0.8656\n",
            "Epoch 88/100\n",
            "125/125 [==============================] - 0s 1ms/step - loss: 0.3231 - accuracy: 0.8660\n",
            "Epoch 89/100\n",
            "125/125 [==============================] - 0s 1ms/step - loss: 0.3227 - accuracy: 0.8666\n",
            "Epoch 90/100\n",
            "125/125 [==============================] - 0s 1ms/step - loss: 0.3220 - accuracy: 0.8662\n",
            "Epoch 91/100\n",
            "125/125 [==============================] - 0s 2ms/step - loss: 0.3234 - accuracy: 0.8670\n",
            "Epoch 92/100\n",
            "125/125 [==============================] - 0s 1ms/step - loss: 0.3223 - accuracy: 0.8674\n",
            "Epoch 93/100\n",
            "125/125 [==============================] - 0s 1ms/step - loss: 0.3224 - accuracy: 0.8679\n",
            "Epoch 94/100\n",
            "125/125 [==============================] - 0s 1ms/step - loss: 0.3216 - accuracy: 0.8645\n",
            "Epoch 95/100\n",
            "125/125 [==============================] - 0s 1ms/step - loss: 0.3221 - accuracy: 0.8676\n",
            "Epoch 96/100\n",
            "125/125 [==============================] - 0s 1ms/step - loss: 0.3225 - accuracy: 0.8654\n",
            "Epoch 97/100\n",
            "125/125 [==============================] - 0s 1ms/step - loss: 0.3220 - accuracy: 0.8665\n",
            "Epoch 98/100\n",
            "125/125 [==============================] - 0s 1ms/step - loss: 0.3220 - accuracy: 0.8673\n",
            "Epoch 99/100\n",
            "125/125 [==============================] - 0s 1ms/step - loss: 0.3217 - accuracy: 0.8673\n",
            "Epoch 100/100\n",
            "125/125 [==============================] - 0s 2ms/step - loss: 0.3223 - accuracy: 0.8660\n"
          ]
        },
        {
          "output_type": "execute_result",
          "data": {
            "text/plain": [
              "<keras.callbacks.History at 0x7f75bbcd8710>"
            ]
          },
          "metadata": {},
          "execution_count": 242
        }
      ]
    },
    {
      "cell_type": "markdown",
      "metadata": {
        "id": "tJj5k2MxZga3"
      },
      "source": [
        "## Part 4 - Making the predictions and evaluating the model"
      ]
    },
    {
      "cell_type": "markdown",
      "metadata": {
        "id": "84QFoqGYeXHL"
      },
      "source": [
        "### Predicting the result of a single observation"
      ]
    },
    {
      "cell_type": "code",
      "metadata": {
        "id": "ikKYMZPaOXoq"
      },
      "source": [
        "customer = [600, 'France','Male', 40, 3, 60000, 2, 1, 1, 50000]"
      ],
      "execution_count": 243,
      "outputs": []
    },
    {
      "cell_type": "markdown",
      "metadata": {
        "id": "5NUffBcFOO7d"
      },
      "source": [
        "#### Encode the gender"
      ]
    },
    {
      "cell_type": "code",
      "metadata": {
        "id": "UT0IaGiPLlLO"
      },
      "source": [
        "customer[2]= le.transform([customer[2]])[0]"
      ],
      "execution_count": 244,
      "outputs": []
    },
    {
      "cell_type": "markdown",
      "metadata": {
        "id": "u-de3CuFOSkE"
      },
      "source": [
        "##### Encode the Geography"
      ]
    },
    {
      "cell_type": "code",
      "metadata": {
        "id": "G0zEAb_8ONdF"
      },
      "source": [
        "customer = ct.transform([customer])"
      ],
      "execution_count": 245,
      "outputs": []
    },
    {
      "cell_type": "markdown",
      "metadata": {
        "id": "Kqd7ELJjQYx5"
      },
      "source": [
        "##### Scaling the customer features"
      ]
    },
    {
      "cell_type": "code",
      "metadata": {
        "id": "mUwQq6GjQYj_"
      },
      "source": [
        "customer = sc.transform(customer)"
      ],
      "execution_count": 246,
      "outputs": []
    },
    {
      "cell_type": "markdown",
      "metadata": {
        "id": "NEL_Y1FRSMhG"
      },
      "source": [
        "#### Predict if customer will churn and leave the bank"
      ]
    },
    {
      "cell_type": "code",
      "metadata": {
        "colab": {
          "base_uri": "https://localhost:8080/"
        },
        "id": "qcMU3w8qMk1M",
        "outputId": "fa57b6e7-090e-48c1-c66a-951615f986a4"
      },
      "source": [
        "if (ann.predict(customer)[0][0] > 0.5):\n",
        "  print('Customer will leave')\n",
        "else:\n",
        "  print('Customer will not leave')\n"
      ],
      "execution_count": 247,
      "outputs": [
        {
          "output_type": "stream",
          "name": "stdout",
          "text": [
            "Customer will not leave\n"
          ]
        }
      ]
    },
    {
      "cell_type": "markdown",
      "metadata": {
        "id": "CGRo3eacgDdC"
      },
      "source": [
        "**Homework**\n",
        "\n",
        "Use our ANN model to predict if the customer with the following informations will leave the bank: \n",
        "\n",
        "Geography: France\n",
        "\n",
        "Credit Score: 600\n",
        "\n",
        "Gender: Male\n",
        "\n",
        "Age: 40 years old\n",
        "\n",
        "Tenure: 3 years\n",
        "\n",
        "Balance: \\$ 60000\n",
        "\n",
        "Number of Products: 2\n",
        "\n",
        "Does this customer have a credit card ? Yes\n",
        "\n",
        "Is this customer an Active Member: Yes\n",
        "\n",
        "Estimated Salary: \\$ 50000\n",
        "\n",
        "So, should we say goodbye to that customer ?"
      ]
    },
    {
      "cell_type": "markdown",
      "metadata": {
        "id": "ZhU1LTgPg-kH"
      },
      "source": [
        "**Solution**"
      ]
    },
    {
      "cell_type": "markdown",
      "metadata": {
        "id": "wGjx94g2n7OV"
      },
      "source": [
        "Therefore, our ANN model predicts that this customer stays in the bank!\n",
        "\n",
        "**Important note 1:** Notice that the values of the features were all input in a double pair of square brackets. That's because the \"predict\" method always expects a 2D array as the format of its inputs. And putting our values into a double pair of square brackets makes the input exactly a 2D array.\n",
        "\n",
        "**Important note 2:** Notice also that the \"France\" country was not input as a string in the last column but as \"1, 0, 0\" in the first three columns. That's because of course the predict method expects the one-hot-encoded values of the state, and as we see in the first row of the matrix of features X, \"France\" was encoded as \"1, 0, 0\". And be careful to include these values in the first three columns, because the dummy variables are always created in the first columns."
      ]
    },
    {
      "cell_type": "markdown",
      "metadata": {
        "id": "u7yx47jPZt11"
      },
      "source": [
        "### Predicting the Test set results"
      ]
    },
    {
      "cell_type": "code",
      "metadata": {
        "colab": {
          "base_uri": "https://localhost:8080/"
        },
        "id": "utD3G07VS9os",
        "outputId": "6c7f64f1-09f2-4327-dd98-886d372ddd58"
      },
      "source": [
        "y_pred = ann.predict(X_test) > 0.5\n",
        "print(np.concatenate((y_pred.reshape(len(y_pred),1), y_test.reshape(len(y_test),1)),1))"
      ],
      "execution_count": 248,
      "outputs": [
        {
          "output_type": "stream",
          "name": "stdout",
          "text": [
            "[[0 0]\n",
            " [0 1]\n",
            " [0 0]\n",
            " ...\n",
            " [0 0]\n",
            " [0 0]\n",
            " [0 0]]\n"
          ]
        }
      ]
    },
    {
      "cell_type": "markdown",
      "metadata": {
        "id": "o0oyfLWoaEGw"
      },
      "source": [
        "### Making the Confusion Matrix"
      ]
    },
    {
      "cell_type": "code",
      "metadata": {
        "colab": {
          "base_uri": "https://localhost:8080/"
        },
        "id": "kFjbPlaKTF0z",
        "outputId": "e0773f41-895d-47cf-d439-e21da3115c5e"
      },
      "source": [
        "from sklearn.metrics import *\n",
        "cm = confusion_matrix(y_test, y_pred)\n",
        "print(cm)"
      ],
      "execution_count": 249,
      "outputs": [
        {
          "output_type": "stream",
          "name": "stdout",
          "text": [
            "[[1549   46]\n",
            " [ 225  180]]\n"
          ]
        }
      ]
    },
    {
      "cell_type": "code",
      "metadata": {
        "colab": {
          "base_uri": "https://localhost:8080/"
        },
        "id": "Mf4REYTCVB_R",
        "outputId": "935d9e9d-f0c9-44e9-8173-7fb672056e73"
      },
      "source": [
        "accuracy_score(y_test, y_pred)"
      ],
      "execution_count": 250,
      "outputs": [
        {
          "output_type": "execute_result",
          "data": {
            "text/plain": [
              "0.8645"
            ]
          },
          "metadata": {},
          "execution_count": 250
        }
      ]
    },
    {
      "cell_type": "code",
      "metadata": {
        "colab": {
          "base_uri": "https://localhost:8080/"
        },
        "id": "i9yTXikTUo45",
        "outputId": "df79a650-901b-4b5e-e1bf-124caadca5b7"
      },
      "source": [
        "recall_score(y_test, y_pred)"
      ],
      "execution_count": 251,
      "outputs": [
        {
          "output_type": "execute_result",
          "data": {
            "text/plain": [
              "0.4444444444444444"
            ]
          },
          "metadata": {},
          "execution_count": 251
        }
      ]
    },
    {
      "cell_type": "code",
      "metadata": {
        "colab": {
          "base_uri": "https://localhost:8080/"
        },
        "id": "eGHVwOL_UqFA",
        "outputId": "687d51e9-7052-4444-c6ff-15351938c1ac"
      },
      "source": [
        "f1_score(y_test, y_pred)"
      ],
      "execution_count": 252,
      "outputs": [
        {
          "output_type": "execute_result",
          "data": {
            "text/plain": [
              "0.5705229793977813"
            ]
          },
          "metadata": {},
          "execution_count": 252
        }
      ]
    },
    {
      "cell_type": "code",
      "metadata": {
        "colab": {
          "base_uri": "https://localhost:8080/"
        },
        "id": "irgdRdnHUw7v",
        "outputId": "ed971d2a-a00d-4e8e-94c1-136c3759f5da"
      },
      "source": [
        "precision_score(y_test, y_pred)"
      ],
      "execution_count": 253,
      "outputs": [
        {
          "output_type": "execute_result",
          "data": {
            "text/plain": [
              "0.7964601769911505"
            ]
          },
          "metadata": {},
          "execution_count": 253
        }
      ]
    },
    {
      "cell_type": "code",
      "metadata": {
        "id": "te4XlGd7U32-"
      },
      "source": [
        ""
      ],
      "execution_count": null,
      "outputs": []
    }
  ]
}