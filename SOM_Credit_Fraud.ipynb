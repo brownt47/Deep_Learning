{
  "nbformat": 4,
  "nbformat_minor": 0,
  "metadata": {
    "colab": {
      "name": "SOM - Timothy.ipynb",
      "provenance": [],
      "collapsed_sections": [],
      "include_colab_link": true
    },
    "kernelspec": {
      "name": "python3",
      "display_name": "Python 3"
    }
  },
  "cells": [
    {
      "cell_type": "markdown",
      "metadata": {
        "id": "view-in-github",
        "colab_type": "text"
      },
      "source": [
        "<a href=\"https://colab.research.google.com/github/brownt47/Deep_Learning/blob/main/SOM_Credit_Fraud.ipynb\" target=\"_parent\"><img src=\"https://colab.research.google.com/assets/colab-badge.svg\" alt=\"Open In Colab\"/></a>"
      ]
    },
    {
      "cell_type": "markdown",
      "metadata": {
        "id": "t9oX7AL3nyLm"
      },
      "source": [
        "#Self Organizing Map"
      ]
    },
    {
      "cell_type": "markdown",
      "metadata": {
        "id": "k-Y_YF2UCDmR"
      },
      "source": [
        "Use a Self Organizing Map to identify fraudulent customer applications for a credit card."
      ]
    },
    {
      "cell_type": "markdown",
      "metadata": {
        "id": "r9maNhdd65pB"
      },
      "source": [
        "##Install MiniSom Package"
      ]
    },
    {
      "cell_type": "code",
      "metadata": {
        "id": "1KB28WUso0Bj"
      },
      "source": [
        "#!pip install MiniSom"
      ],
      "execution_count": 240,
      "outputs": []
    },
    {
      "cell_type": "markdown",
      "metadata": {
        "id": "6AX0Y23PnyOI"
      },
      "source": [
        "### Importing the libraries\n"
      ]
    },
    {
      "cell_type": "code",
      "metadata": {
        "id": "gaSkOFKKBB3b"
      },
      "source": [
        "import numpy as np\n",
        "import pandas as pd\n",
        "import matplotlib.pyplot as plt"
      ],
      "execution_count": 241,
      "outputs": []
    },
    {
      "cell_type": "markdown",
      "metadata": {
        "id": "SCl7ERn_n539"
      },
      "source": [
        "## Importing the dataset"
      ]
    },
    {
      "cell_type": "code",
      "metadata": {
        "id": "4hgeaN3CoRfl"
      },
      "source": [
        "dataset = pd.read_csv('Credit_Card_Applications.csv')\n",
        "X = dataset.iloc[:, :-1].values \n",
        "y = dataset.iloc[:, -1].values"
      ],
      "execution_count": 242,
      "outputs": []
    },
    {
      "cell_type": "code",
      "metadata": {
        "colab": {
          "base_uri": "https://localhost:8080/",
          "height": 260
        },
        "id": "K5Zqi98ShV_5",
        "outputId": "dc59db6c-bde2-4908-ac59-ec8ac2f21c0d"
      },
      "source": [
        "dataset.head(7)"
      ],
      "execution_count": 243,
      "outputs": [
        {
          "output_type": "execute_result",
          "data": {
            "text/html": [
              "<div>\n",
              "<style scoped>\n",
              "    .dataframe tbody tr th:only-of-type {\n",
              "        vertical-align: middle;\n",
              "    }\n",
              "\n",
              "    .dataframe tbody tr th {\n",
              "        vertical-align: top;\n",
              "    }\n",
              "\n",
              "    .dataframe thead th {\n",
              "        text-align: right;\n",
              "    }\n",
              "</style>\n",
              "<table border=\"1\" class=\"dataframe\">\n",
              "  <thead>\n",
              "    <tr style=\"text-align: right;\">\n",
              "      <th></th>\n",
              "      <th>CustomerID</th>\n",
              "      <th>A1</th>\n",
              "      <th>A2</th>\n",
              "      <th>A3</th>\n",
              "      <th>A4</th>\n",
              "      <th>A5</th>\n",
              "      <th>A6</th>\n",
              "      <th>A7</th>\n",
              "      <th>A8</th>\n",
              "      <th>A9</th>\n",
              "      <th>A10</th>\n",
              "      <th>A11</th>\n",
              "      <th>A12</th>\n",
              "      <th>A13</th>\n",
              "      <th>A14</th>\n",
              "      <th>Class</th>\n",
              "    </tr>\n",
              "  </thead>\n",
              "  <tbody>\n",
              "    <tr>\n",
              "      <th>0</th>\n",
              "      <td>15776156</td>\n",
              "      <td>1</td>\n",
              "      <td>22.08</td>\n",
              "      <td>11.460</td>\n",
              "      <td>2</td>\n",
              "      <td>4</td>\n",
              "      <td>4</td>\n",
              "      <td>1.585</td>\n",
              "      <td>0</td>\n",
              "      <td>0</td>\n",
              "      <td>0</td>\n",
              "      <td>1</td>\n",
              "      <td>2</td>\n",
              "      <td>100</td>\n",
              "      <td>1213</td>\n",
              "      <td>0</td>\n",
              "    </tr>\n",
              "    <tr>\n",
              "      <th>1</th>\n",
              "      <td>15739548</td>\n",
              "      <td>0</td>\n",
              "      <td>22.67</td>\n",
              "      <td>7.000</td>\n",
              "      <td>2</td>\n",
              "      <td>8</td>\n",
              "      <td>4</td>\n",
              "      <td>0.165</td>\n",
              "      <td>0</td>\n",
              "      <td>0</td>\n",
              "      <td>0</td>\n",
              "      <td>0</td>\n",
              "      <td>2</td>\n",
              "      <td>160</td>\n",
              "      <td>1</td>\n",
              "      <td>0</td>\n",
              "    </tr>\n",
              "    <tr>\n",
              "      <th>2</th>\n",
              "      <td>15662854</td>\n",
              "      <td>0</td>\n",
              "      <td>29.58</td>\n",
              "      <td>1.750</td>\n",
              "      <td>1</td>\n",
              "      <td>4</td>\n",
              "      <td>4</td>\n",
              "      <td>1.250</td>\n",
              "      <td>0</td>\n",
              "      <td>0</td>\n",
              "      <td>0</td>\n",
              "      <td>1</td>\n",
              "      <td>2</td>\n",
              "      <td>280</td>\n",
              "      <td>1</td>\n",
              "      <td>0</td>\n",
              "    </tr>\n",
              "    <tr>\n",
              "      <th>3</th>\n",
              "      <td>15687688</td>\n",
              "      <td>0</td>\n",
              "      <td>21.67</td>\n",
              "      <td>11.500</td>\n",
              "      <td>1</td>\n",
              "      <td>5</td>\n",
              "      <td>3</td>\n",
              "      <td>0.000</td>\n",
              "      <td>1</td>\n",
              "      <td>1</td>\n",
              "      <td>11</td>\n",
              "      <td>1</td>\n",
              "      <td>2</td>\n",
              "      <td>0</td>\n",
              "      <td>1</td>\n",
              "      <td>1</td>\n",
              "    </tr>\n",
              "    <tr>\n",
              "      <th>4</th>\n",
              "      <td>15715750</td>\n",
              "      <td>1</td>\n",
              "      <td>20.17</td>\n",
              "      <td>8.170</td>\n",
              "      <td>2</td>\n",
              "      <td>6</td>\n",
              "      <td>4</td>\n",
              "      <td>1.960</td>\n",
              "      <td>1</td>\n",
              "      <td>1</td>\n",
              "      <td>14</td>\n",
              "      <td>0</td>\n",
              "      <td>2</td>\n",
              "      <td>60</td>\n",
              "      <td>159</td>\n",
              "      <td>1</td>\n",
              "    </tr>\n",
              "    <tr>\n",
              "      <th>5</th>\n",
              "      <td>15571121</td>\n",
              "      <td>0</td>\n",
              "      <td>15.83</td>\n",
              "      <td>0.585</td>\n",
              "      <td>2</td>\n",
              "      <td>8</td>\n",
              "      <td>8</td>\n",
              "      <td>1.500</td>\n",
              "      <td>1</td>\n",
              "      <td>1</td>\n",
              "      <td>2</td>\n",
              "      <td>0</td>\n",
              "      <td>2</td>\n",
              "      <td>100</td>\n",
              "      <td>1</td>\n",
              "      <td>1</td>\n",
              "    </tr>\n",
              "    <tr>\n",
              "      <th>6</th>\n",
              "      <td>15726466</td>\n",
              "      <td>1</td>\n",
              "      <td>17.42</td>\n",
              "      <td>6.500</td>\n",
              "      <td>2</td>\n",
              "      <td>3</td>\n",
              "      <td>4</td>\n",
              "      <td>0.125</td>\n",
              "      <td>0</td>\n",
              "      <td>0</td>\n",
              "      <td>0</td>\n",
              "      <td>0</td>\n",
              "      <td>2</td>\n",
              "      <td>60</td>\n",
              "      <td>101</td>\n",
              "      <td>0</td>\n",
              "    </tr>\n",
              "  </tbody>\n",
              "</table>\n",
              "</div>"
            ],
            "text/plain": [
              "   CustomerID  A1     A2      A3  A4  A5  ...  A10  A11  A12  A13   A14  Class\n",
              "0    15776156   1  22.08  11.460   2   4  ...    0    1    2  100  1213      0\n",
              "1    15739548   0  22.67   7.000   2   8  ...    0    0    2  160     1      0\n",
              "2    15662854   0  29.58   1.750   1   4  ...    0    1    2  280     1      0\n",
              "3    15687688   0  21.67  11.500   1   5  ...   11    1    2    0     1      1\n",
              "4    15715750   1  20.17   8.170   2   6  ...   14    0    2   60   159      1\n",
              "5    15571121   0  15.83   0.585   2   8  ...    2    0    2  100     1      1\n",
              "6    15726466   1  17.42   6.500   2   3  ...    0    0    2   60   101      0\n",
              "\n",
              "[7 rows x 16 columns]"
            ]
          },
          "metadata": {},
          "execution_count": 243
        }
      ]
    },
    {
      "cell_type": "markdown",
      "metadata": {
        "id": "fYHJ0dd6n-d4"
      },
      "source": [
        "## Feature Scaling\n"
      ]
    },
    {
      "cell_type": "code",
      "metadata": {
        "id": "sY7JiUxwoSOd"
      },
      "source": [
        "from sklearn.preprocessing import MinMaxScaler\n",
        "sc = MinMaxScaler(feature_range = (0,1))\n",
        "X = sc.fit_transform(X)"
      ],
      "execution_count": 244,
      "outputs": []
    },
    {
      "cell_type": "markdown",
      "metadata": {
        "id": "aPp-7wfNoAhR"
      },
      "source": [
        "##Training the SOM\n"
      ]
    },
    {
      "cell_type": "code",
      "metadata": {
        "id": "3iuAhM6ooS0k"
      },
      "source": [
        "from minisom import MiniSom\n",
        "\n",
        "x_grid_size = 20\n",
        "y_grid_size = 20\n",
        "\n",
        "som = MiniSom(x = x_grid_size, y = y_grid_size,   #grid size\n",
        "                input_len = 15,                   #number of features in X\n",
        "                sigma = 1.0,                      #radius of neighborhood\n",
        "                learning_rate = 0.25)\n",
        "              \n",
        "som.random_weights_init(X)\n",
        "som.train_random(data = X, num_iteration = 10000)"
      ],
      "execution_count": 245,
      "outputs": []
    },
    {
      "cell_type": "markdown",
      "metadata": {
        "id": "YiU27C-ToCnH"
      },
      "source": [
        "##Visualizing the results\n"
      ]
    },
    {
      "cell_type": "code",
      "metadata": {
        "id": "XzrIX4fZoTQj",
        "colab": {
          "base_uri": "https://localhost:8080/",
          "height": 268
        },
        "outputId": "b3508e96-1089-4ec3-9a29-c5ff39205a13"
      },
      "source": [
        "from pylab import bone, pcolor, colorbar, plot, show\n",
        "bone()\n",
        "pcolor(som.distance_map().T)\n",
        "colorbar()\n",
        "markers = ['o', 's']\n",
        "colors = ['r', 'g']\n",
        "for i, x in enumerate(X):\n",
        "    w = som.winner(x)\n",
        "    plot(w[0] + 0.5,\n",
        "         w[1] + 0.5,\n",
        "         markers[y[i]],\n",
        "         markeredgecolor = colors[y[i]],\n",
        "         markerfacecolor = 'None',\n",
        "         markersize = 10,\n",
        "         markeredgewidth = 2)\n",
        "show()"
      ],
      "execution_count": 246,
      "outputs": [
        {
          "output_type": "display_data",
          "data": {
            "image/png": "[encoded data removed]",
            "text/plain": [
              "<Figure size 432x288 with 2 Axes>"
            ]
          },
          "metadata": {
            "needs_background": "light"
          }
        }
      ]
    },
    {
      "cell_type": "markdown",
      "metadata": {
        "id": "qb0OQXlUAaGh"
      },
      "source": [
        "Lighter background tile = higher risk of fraud\n",
        "\n",
        "Darker background tile = lower risk of fraud\n",
        "\n",
        "Green Squares = Customers were approved.\n",
        "\n",
        "Red Circles = Customer were not approved.\n",
        "\n",
        "*Looks like there was an approved fraudulent customer grouping at (17, 11)*\n",
        "\n",
        "\n"
      ]
    },
    {
      "cell_type": "markdown",
      "metadata": {
        "id": "4C-I_jBfoEkP"
      },
      "source": [
        "## Finding the frauds\n",
        "#### Automated with risk level parameter"
      ]
    },
    {
      "cell_type": "code",
      "metadata": {
        "id": "GmirxCQZsrku"
      },
      "source": [
        "fraud = som.distance_map()  \n",
        "fraud_matrix = []       #stores grid locations of nodes deemed to be at risk for fraud\n",
        "risk_level = 0.75       #threshold on how confident there was fraud\n",
        "\n",
        "# iterate thru grid to find nodes that are above the risk threshold\n",
        "for i in range(0, x_grid_size):\n",
        "  for j in range(0, y_grid_size):\n",
        "      if fraud[i][j] > risk_level:\n",
        "        fraud_matrix.append((i,j))     #add grid location for fraudulent node as tuple\n"
      ],
      "execution_count": 247,
      "outputs": []
    },
    {
      "cell_type": "code",
      "metadata": {
        "colab": {
          "base_uri": "https://localhost:8080/"
        },
        "id": "A79d0vSvuyi8",
        "outputId": "9a34c5f7-a30c-4e6e-edd4-937c38f83bd3"
      },
      "source": [
        "fraud_matrix    #grid locations for nodes that are above the risk threshold"
      ],
      "execution_count": 248,
      "outputs": [
        {
          "output_type": "execute_result",
          "data": {
            "text/plain": [
              "[(2, 16), (13, 4), (15, 5), (16, 13), (17, 11)]"
            ]
          },
          "metadata": {},
          "execution_count": 248
        }
      ]
    },
    {
      "cell_type": "code",
      "metadata": {
        "colab": {
          "base_uri": "https://localhost:8080/"
        },
        "id": "FFldoObLu6bV",
        "outputId": "9a5ae9da-24a4-46a8-d9ad-edac79daf11b"
      },
      "source": [
        "mappings = som.win_map(X)\n",
        "frauds = []\n",
        "\n",
        "for coord in fraud_matrix:\n",
        "  temp = mappings[coord]      # get customer data entires for a node\n",
        "  \n",
        "# There may be a node that is deemed high risk but no customers are assigned to that node\n",
        "# check that node is non-empty first\n",
        "  if temp != []:                          \n",
        "      temp_fraud_ids = sc.inverse_transform(temp)   # Get customer data in original format\n",
        "      frauds.append(temp_fraud_ids[:,0])            # Store list of customer data at that node\n",
        "\n",
        "print('Number of fraudulent nodes')\n",
        "print(len(frauds))                              #number of non-empty nodes that have fraudulent customers"
      ],
      "execution_count": 249,
      "outputs": [
        {
          "output_type": "stream",
          "name": "stdout",
          "text": [
            "Number of fraudulent nodes\n",
            "5\n"
          ]
        }
      ]
    },
    {
      "cell_type": "code",
      "metadata": {
        "colab": {
          "base_uri": "https://localhost:8080/"
        },
        "id": "Py1taCYj1s3v",
        "outputId": "5c1ec5d7-f99d-42a5-ac43-ec6ac69a05e6"
      },
      "source": [
        "print('Number of Fraudulent Customer IDs')\n",
        "num = 0\n",
        "for i in range(0, len(frauds)):    #for each node\n",
        "  for j in range(0, len(frauds[i])):   #for each customer id in node, increase counter\n",
        "    num = num + 1\n",
        "print(num)"
      ],
      "execution_count": 250,
      "outputs": [
        {
          "output_type": "stream",
          "name": "stdout",
          "text": [
            "Number of Fraudulent Customer IDs\n",
            "7\n"
          ]
        }
      ]
    },
    {
      "cell_type": "code",
      "metadata": {
        "colab": {
          "base_uri": "https://localhost:8080/"
        },
        "id": "ogY_a1yMwoEy",
        "outputId": "99a10c2a-96ac-42af-c379-7a914352726a"
      },
      "source": [
        "print('Fraudulent Customer IDs')\n",
        "fraudulent_customer_ids = []\n",
        "for i in range(0,len(frauds)):    #for each node\n",
        "  for j in range(0, len(frauds[i])):    #for each customer id in node, \n",
        "    fraudulent_customer_ids.append(int(frauds[i][j]))    #store customer id in list for future use\n",
        "    print(int(frauds[i][j]))                        #print customer id"
      ],
      "execution_count": 251,
      "outputs": [
        {
          "output_type": "stream",
          "name": "stdout",
          "text": [
            "Fraudulent Customer IDs\n",
            "15621423\n",
            "15731989\n",
            "15651460\n",
            "15636454\n",
            "15692137\n",
            "15676909\n",
            "15799785\n"
          ]
        }
      ]
    },
    {
      "cell_type": "code",
      "metadata": {
        "colab": {
          "base_uri": "https://localhost:8080/"
        },
        "id": "Lv-M1JlT6F77",
        "outputId": "e8c78586-4868-4116-e360-dac7b3836482"
      },
      "source": [
        "print(fraudulent_customer_ids)"
      ],
      "execution_count": 252,
      "outputs": [
        {
          "output_type": "stream",
          "name": "stdout",
          "text": [
            "[15621423, 15731989, 15651460, 15636454, 15692137, 15676909, 15799785]\n"
          ]
        }
      ]
    },
    {
      "cell_type": "markdown",
      "metadata": {
        "id": "frXqAlpo84b1"
      },
      "source": [
        "##Printing the Fraudulent Clients\n",
        "#### -process requires user to manually insert fraudulent node locations\n",
        "#### -limited to two nodes in current form"
      ]
    },
    {
      "cell_type": "code",
      "metadata": {
        "id": "4xd-jb8doTlM"
      },
      "source": [
        "mappings1 = som.win_map(X)\n",
        "node1 = (2,16)\n",
        "node2 = (17,11)\n",
        "\n",
        "frauds1 = np.concatenate((mappings1[node1], mappings1[node2]), axis = 0)\n",
        "frauds1 = sc.inverse_transform(frauds1)"
      ],
      "execution_count": 254,
      "outputs": []
    },
    {
      "cell_type": "code",
      "metadata": {
        "id": "54a4NnJo8761",
        "colab": {
          "base_uri": "https://localhost:8080/"
        },
        "outputId": "f7c607c3-c9e3-4541-f9dd-fa14f337cd65"
      },
      "source": [
        "print('Fraud Customer IDs')\n",
        "for i in frauds1[:, 0]:\n",
        "  print(int(i))"
      ],
      "execution_count": 255,
      "outputs": [
        {
          "output_type": "stream",
          "name": "stdout",
          "text": [
            "Fraud Customer IDs\n",
            "15621423\n",
            "15799785\n"
          ]
        }
      ]
    },
    {
      "cell_type": "code",
      "metadata": {
        "id": "HQnILtXoAQYN"
      },
      "source": [
        ""
      ],
      "execution_count": null,
      "outputs": []
    }
  ]
}